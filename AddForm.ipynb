{
  "nbformat": 4,
  "nbformat_minor": 0,
  "metadata": {
    "colab": {
      "name": "AddForm.ipynb",
      "provenance": [],
      "authorship_tag": "ABX9TyNy8bSdczVB6awpCgzC+VSQ",
      "include_colab_link": true
    },
    "kernelspec": {
      "name": "python3",
      "display_name": "Python 3"
    },
    "accelerator": "GPU"
  },
  "cells": [
    {
      "cell_type": "markdown",
      "metadata": {
        "id": "view-in-github",
        "colab_type": "text"
      },
      "source": [
        "<a href=\"https://colab.research.google.com/github/banigoamy/HAMOYE1/blob/readme-edits/AddForm.ipynb\" target=\"_parent\"><img src=\"https://colab.research.google.com/assets/colab-badge.svg\" alt=\"Open In Colab\"/></a>"
      ]
    },
    {
      "cell_type": "code",
      "metadata": {
        "id": "3JICS87PDoG8",
        "colab_type": "code",
        "colab": {}
      },
      "source": [
        "#@title Form\n",
        "sleeptime =  2#@param {type:\"integer\"}\n"
      ],
      "execution_count": 1,
      "outputs": []
    },
    {
      "cell_type": "code",
      "metadata": {
        "id": "XvtvrUxwEm8n",
        "colab_type": "code",
        "colab": {
          "base_uri": "https://localhost:8080/",
          "height": 50
        },
        "outputId": "a2b4a96f-93fb-49d6-a24e-c2d529f1e330"
      },
      "source": [
        "import time\n",
        "print(time.ctime())\n",
        "time.sleep(sleeptime)\n",
        "print (time.ctime())"
      ],
      "execution_count": 2,
      "outputs": [
        {
          "output_type": "stream",
          "text": [
            "Wed Jul  8 10:58:09 2020\n",
            "Wed Jul  8 10:58:11 2020\n"
          ],
          "name": "stdout"
        }
      ]
    },
    {
      "cell_type": "code",
      "metadata": {
        "id": "Jq_yMQLQFWjh",
        "colab_type": "code",
        "colab": {
          "base_uri": "https://localhost:8080/",
          "height": 34
        },
        "outputId": "1aec7875-eddc-4fee-d31d-ec9cca962ad5"
      },
      "source": [
        "name = 'Tutorialspoint' #@param {type:\"string\"}\n",
        "print(name)"
      ],
      "execution_count": 3,
      "outputs": [
        {
          "output_type": "stream",
          "text": [
            "Tutorialspoint\n"
          ],
          "name": "stdout"
        }
      ]
    },
    {
      "cell_type": "code",
      "metadata": {
        "id": "kWl_k7Q_Fpl_",
        "colab_type": "code",
        "colab": {}
      },
      "source": [
        "color = 'red' #@param [\"red\", \"green\", \"blue\"]\n",
        "print(color)"
      ],
      "execution_count": null,
      "outputs": []
    },
    {
      "cell_type": "code",
      "metadata": {
        "id": "czfvZc7YF4y7",
        "colab_type": "code",
        "colab": {
          "base_uri": "https://localhost:8080/",
          "height": 34
        },
        "outputId": "6acbdb71-21df-4006-8986-643ce2b53ceb"
      },
      "source": [
        "#@title Date fields\n",
        "date_input = '2020-07-08' #@param {type:\"date\"}\n",
        "print(date_input)"
      ],
      "execution_count": 5,
      "outputs": [
        {
          "output_type": "stream",
          "text": [
            "2020-07-08\n"
          ],
          "name": "stdout"
        }
      ]
    },
    {
      "cell_type": "code",
      "metadata": {
        "id": "UppLAM21G80P",
        "colab_type": "code",
        "colab": {}
      },
      "source": [
        "!pip install -q keras"
      ],
      "execution_count": 9,
      "outputs": []
    },
    {
      "cell_type": "code",
      "metadata": {
        "id": "Iyv7hvRHHmfu",
        "colab_type": "code",
        "colab": {
          "base_uri": "https://localhost:8080/",
          "height": 306
        },
        "outputId": "ede296a2-3666-46f8-ad0f-4ffd5142c117"
      },
      "source": [
        "!pip install mxnet-cu80"
      ],
      "execution_count": 10,
      "outputs": [
        {
          "output_type": "stream",
          "text": [
            "Collecting mxnet-cu80\n",
            "\u001b[?25l  Downloading https://files.pythonhosted.org/packages/a5/3a/35bd08de97e7025dc65a4087ac08b6e87fa537d17cdaa14993f5db4cbdc5/mxnet_cu80-1.5.0-py2.py3-none-manylinux1_x86_64.whl (372.1MB)\n",
            "\u001b[K     |████████████████████████████████| 372.1MB 42kB/s \n",
            "\u001b[?25hCollecting graphviz<0.9.0,>=0.8.1\n",
            "  Downloading https://files.pythonhosted.org/packages/53/39/4ab213673844e0c004bed8a0781a0721a3f6bb23eb8854ee75c236428892/graphviz-0.8.4-py2.py3-none-any.whl\n",
            "Requirement already satisfied: requests<3,>=2.20.0 in /usr/local/lib/python3.6/dist-packages (from mxnet-cu80) (2.23.0)\n",
            "Requirement already satisfied: numpy<2.0.0,>1.16.0 in /usr/local/lib/python3.6/dist-packages (from mxnet-cu80) (1.18.5)\n",
            "Requirement already satisfied: urllib3!=1.25.0,!=1.25.1,<1.26,>=1.21.1 in /usr/local/lib/python3.6/dist-packages (from requests<3,>=2.20.0->mxnet-cu80) (1.24.3)\n",
            "Requirement already satisfied: certifi>=2017.4.17 in /usr/local/lib/python3.6/dist-packages (from requests<3,>=2.20.0->mxnet-cu80) (2020.6.20)\n",
            "Requirement already satisfied: idna<3,>=2.5 in /usr/local/lib/python3.6/dist-packages (from requests<3,>=2.20.0->mxnet-cu80) (2.9)\n",
            "Requirement already satisfied: chardet<4,>=3.0.2 in /usr/local/lib/python3.6/dist-packages (from requests<3,>=2.20.0->mxnet-cu80) (3.0.4)\n",
            "Installing collected packages: graphviz, mxnet-cu80\n",
            "  Found existing installation: graphviz 0.10.1\n",
            "    Uninstalling graphviz-0.10.1:\n",
            "      Successfully uninstalled graphviz-0.10.1\n",
            "Successfully installed graphviz-0.8.4 mxnet-cu80-1.5.0\n"
          ],
          "name": "stdout"
        }
      ]
    },
    {
      "cell_type": "code",
      "metadata": {
        "id": "b7SiotxyH2qr",
        "colab_type": "code",
        "colab": {
          "base_uri": "https://localhost:8080/",
          "height": 50
        },
        "outputId": "2a551831-8414-4aa1-dd9e-b92104529608"
      },
      "source": [
        "!apt-get -qq install -y libsm6 libxext6 && pip install -q -U opencv-python"
      ],
      "execution_count": 11,
      "outputs": [
        {
          "output_type": "stream",
          "text": [
            "\u001b[K     |████████████████████████████████| 43.7MB 92kB/s \n",
            "\u001b[31mERROR: albumentations 0.1.12 has requirement imgaug<0.2.7,>=0.2.5, but you'll have imgaug 0.2.9 which is incompatible.\u001b[0m\n",
            "\u001b[?25h"
          ],
          "name": "stdout"
        }
      ]
    },
    {
      "cell_type": "code",
      "metadata": {
        "id": "F2i3kaMcIDDn",
        "colab_type": "code",
        "colab": {
          "base_uri": "https://localhost:8080/",
          "height": 50
        },
        "outputId": "70174238-ad02-422b-ed96-e2ebc08003c7"
      },
      "source": [
        "!pip install -q xgboost==0.4a30"
      ],
      "execution_count": 12,
      "outputs": [
        {
          "output_type": "stream",
          "text": [
            "\u001b[?25l\r\u001b[K     |▍                               | 10kB 19.5MB/s eta 0:00:01\r\u001b[K     |▉                               | 20kB 1.8MB/s eta 0:00:01\r\u001b[K     |█▎                              | 30kB 2.3MB/s eta 0:00:01\r\u001b[K     |█▊                              | 40kB 2.6MB/s eta 0:00:01\r\u001b[K     |██▏                             | 51kB 2.0MB/s eta 0:00:01\r\u001b[K     |██▋                             | 61kB 2.3MB/s eta 0:00:01\r\u001b[K     |███                             | 71kB 2.5MB/s eta 0:00:01\r\u001b[K     |███▌                            | 81kB 2.8MB/s eta 0:00:01\r\u001b[K     |████                            | 92kB 2.9MB/s eta 0:00:01\r\u001b[K     |████▍                           | 102kB 2.8MB/s eta 0:00:01\r\u001b[K     |████▉                           | 112kB 2.8MB/s eta 0:00:01\r\u001b[K     |█████▏                          | 122kB 2.8MB/s eta 0:00:01\r\u001b[K     |█████▋                          | 133kB 2.8MB/s eta 0:00:01\r\u001b[K     |██████                          | 143kB 2.8MB/s eta 0:00:01\r\u001b[K     |██████▌                         | 153kB 2.8MB/s eta 0:00:01\r\u001b[K     |███████                         | 163kB 2.8MB/s eta 0:00:01\r\u001b[K     |███████▍                        | 174kB 2.8MB/s eta 0:00:01\r\u001b[K     |███████▉                        | 184kB 2.8MB/s eta 0:00:01\r\u001b[K     |████████▎                       | 194kB 2.8MB/s eta 0:00:01\r\u001b[K     |████████▊                       | 204kB 2.8MB/s eta 0:00:01\r\u001b[K     |█████████▏                      | 215kB 2.8MB/s eta 0:00:01\r\u001b[K     |█████████▋                      | 225kB 2.8MB/s eta 0:00:01\r\u001b[K     |██████████                      | 235kB 2.8MB/s eta 0:00:01\r\u001b[K     |██████████▍                     | 245kB 2.8MB/s eta 0:00:01\r\u001b[K     |██████████▉                     | 256kB 2.8MB/s eta 0:00:01\r\u001b[K     |███████████▎                    | 266kB 2.8MB/s eta 0:00:01\r\u001b[K     |███████████▊                    | 276kB 2.8MB/s eta 0:00:01\r\u001b[K     |████████████▏                   | 286kB 2.8MB/s eta 0:00:01\r\u001b[K     |████████████▋                   | 296kB 2.8MB/s eta 0:00:01\r\u001b[K     |█████████████                   | 307kB 2.8MB/s eta 0:00:01\r\u001b[K     |█████████████▌                  | 317kB 2.8MB/s eta 0:00:01\r\u001b[K     |██████████████                  | 327kB 2.8MB/s eta 0:00:01\r\u001b[K     |██████████████▍                 | 337kB 2.8MB/s eta 0:00:01\r\u001b[K     |██████████████▉                 | 348kB 2.8MB/s eta 0:00:01\r\u001b[K     |███████████████▏                | 358kB 2.8MB/s eta 0:00:01\r\u001b[K     |███████████████▋                | 368kB 2.8MB/s eta 0:00:01\r\u001b[K     |████████████████                | 378kB 2.8MB/s eta 0:00:01\r\u001b[K     |████████████████▌               | 389kB 2.8MB/s eta 0:00:01\r\u001b[K     |█████████████████               | 399kB 2.8MB/s eta 0:00:01\r\u001b[K     |█████████████████▍              | 409kB 2.8MB/s eta 0:00:01\r\u001b[K     |█████████████████▉              | 419kB 2.8MB/s eta 0:00:01\r\u001b[K     |██████████████████▎             | 430kB 2.8MB/s eta 0:00:01\r\u001b[K     |██████████████████▊             | 440kB 2.8MB/s eta 0:00:01\r\u001b[K     |███████████████████▏            | 450kB 2.8MB/s eta 0:00:01\r\u001b[K     |███████████████████▋            | 460kB 2.8MB/s eta 0:00:01\r\u001b[K     |████████████████████            | 471kB 2.8MB/s eta 0:00:01\r\u001b[K     |████████████████████▍           | 481kB 2.8MB/s eta 0:00:01\r\u001b[K     |████████████████████▉           | 491kB 2.8MB/s eta 0:00:01\r\u001b[K     |█████████████████████▎          | 501kB 2.8MB/s eta 0:00:01\r\u001b[K     |█████████████████████▊          | 512kB 2.8MB/s eta 0:00:01\r\u001b[K     |██████████████████████▏         | 522kB 2.8MB/s eta 0:00:01\r\u001b[K     |██████████████████████▋         | 532kB 2.8MB/s eta 0:00:01\r\u001b[K     |███████████████████████         | 542kB 2.8MB/s eta 0:00:01\r\u001b[K     |███████████████████████▌        | 552kB 2.8MB/s eta 0:00:01\r\u001b[K     |████████████████████████        | 563kB 2.8MB/s eta 0:00:01\r\u001b[K     |████████████████████████▍       | 573kB 2.8MB/s eta 0:00:01\r\u001b[K     |████████████████████████▉       | 583kB 2.8MB/s eta 0:00:01\r\u001b[K     |█████████████████████████▏      | 593kB 2.8MB/s eta 0:00:01\r\u001b[K     |█████████████████████████▋      | 604kB 2.8MB/s eta 0:00:01\r\u001b[K     |██████████████████████████      | 614kB 2.8MB/s eta 0:00:01\r\u001b[K     |██████████████████████████▌     | 624kB 2.8MB/s eta 0:00:01\r\u001b[K     |███████████████████████████     | 634kB 2.8MB/s eta 0:00:01\r\u001b[K     |███████████████████████████▍    | 645kB 2.8MB/s eta 0:00:01\r\u001b[K     |███████████████████████████▉    | 655kB 2.8MB/s eta 0:00:01\r\u001b[K     |████████████████████████████▎   | 665kB 2.8MB/s eta 0:00:01\r\u001b[K     |████████████████████████████▊   | 675kB 2.8MB/s eta 0:00:01\r\u001b[K     |█████████████████████████████▏  | 686kB 2.8MB/s eta 0:00:01\r\u001b[K     |█████████████████████████████▋  | 696kB 2.8MB/s eta 0:00:01\r\u001b[K     |██████████████████████████████  | 706kB 2.8MB/s eta 0:00:01\r\u001b[K     |██████████████████████████████▍ | 716kB 2.8MB/s eta 0:00:01\r\u001b[K     |██████████████████████████████▉ | 727kB 2.8MB/s eta 0:00:01\r\u001b[K     |███████████████████████████████▎| 737kB 2.8MB/s eta 0:00:01\r\u001b[K     |███████████████████████████████▊| 747kB 2.8MB/s eta 0:00:01\r\u001b[K     |████████████████████████████████| 757kB 2.8MB/s \n",
            "\u001b[?25h  Building wheel for xgboost (setup.py) ... \u001b[?25l\u001b[?25hdone\n"
          ],
          "name": "stdout"
        }
      ]
    },
    {
      "cell_type": "code",
      "metadata": {
        "id": "QPHyNHn-IK67",
        "colab_type": "code",
        "colab": {}
      },
      "source": [
        "!apt-get -qq install -y graphviz && pip install -q pydot"
      ],
      "execution_count": 13,
      "outputs": []
    },
    {
      "cell_type": "code",
      "metadata": {
        "id": "0fx-3Ie8HXEC",
        "colab_type": "code",
        "colab": {}
      },
      "source": [
        ""
      ],
      "execution_count": null,
      "outputs": []
    },
    {
      "cell_type": "code",
      "metadata": {
        "id": "Lu6BN-0-JRxn",
        "colab_type": "code",
        "colab": {
          "base_uri": "https://localhost:8080/",
          "height": 35
        },
        "outputId": "af0aab6e-72ff-4125-ec49-c96ddd3ca253"
      },
      "source": [
        "import tensorflow as tf\n",
        "tf.test.gpu_device_name()"
      ],
      "execution_count": 2,
      "outputs": [
        {
          "output_type": "execute_result",
          "data": {
            "application/vnd.google.colaboratory.intrinsic": {
              "type": "string"
            },
            "text/plain": [
              "'/device:GPU:0'"
            ]
          },
          "metadata": {
            "tags": []
          },
          "execution_count": 2
        }
      ]
    },
    {
      "cell_type": "code",
      "metadata": {
        "id": "B5gCvjkTKKzu",
        "colab_type": "code",
        "colab": {
          "base_uri": "https://localhost:8080/",
          "height": 470
        },
        "outputId": "192f08aa-b462-4a41-dee0-1be70de149e7"
      },
      "source": [
        "from tensorflow.python.client import device_lib\n",
        "device_lib.list_local_devices()"
      ],
      "execution_count": 3,
      "outputs": [
        {
          "output_type": "execute_result",
          "data": {
            "text/plain": [
              "[name: \"/device:CPU:0\"\n",
              " device_type: \"CPU\"\n",
              " memory_limit: 268435456\n",
              " locality {\n",
              " }\n",
              " incarnation: 2065782037713509207, name: \"/device:XLA_CPU:0\"\n",
              " device_type: \"XLA_CPU\"\n",
              " memory_limit: 17179869184\n",
              " locality {\n",
              " }\n",
              " incarnation: 10690036262977795063\n",
              " physical_device_desc: \"device: XLA_CPU device\", name: \"/device:XLA_GPU:0\"\n",
              " device_type: \"XLA_GPU\"\n",
              " memory_limit: 17179869184\n",
              " locality {\n",
              " }\n",
              " incarnation: 10162692892961984332\n",
              " physical_device_desc: \"device: XLA_GPU device\", name: \"/device:GPU:0\"\n",
              " device_type: \"GPU\"\n",
              " memory_limit: 7304675328\n",
              " locality {\n",
              "   bus_id: 1\n",
              "   links {\n",
              "   }\n",
              " }\n",
              " incarnation: 16403434552126173033\n",
              " physical_device_desc: \"device: 0, name: Tesla P4, pci bus id: 0000:00:04.0, compute capability: 6.1\"]"
            ]
          },
          "metadata": {
            "tags": []
          },
          "execution_count": 3
        }
      ]
    },
    {
      "cell_type": "code",
      "metadata": {
        "id": "h3ufOJ3vKPKm",
        "colab_type": "code",
        "colab": {
          "base_uri": "https://localhost:8080/",
          "height": 806
        },
        "outputId": "1c16c75e-2b2c-483e-8b2b-54a5cf49c451"
      },
      "source": [
        "!cat /proc/meminfo"
      ],
      "execution_count": 4,
      "outputs": [
        {
          "output_type": "stream",
          "text": [
            "MemTotal:       13333540 kB\n",
            "MemFree:         9239220 kB\n",
            "MemAvailable:   11857196 kB\n",
            "Buffers:           77348 kB\n",
            "Cached:          2680316 kB\n",
            "SwapCached:            0 kB\n",
            "Active:          1225044 kB\n",
            "Inactive:        2457508 kB\n",
            "Active(anon):     879428 kB\n",
            "Inactive(anon):     8528 kB\n",
            "Active(file):     345616 kB\n",
            "Inactive(file):  2448980 kB\n",
            "Unevictable:           0 kB\n",
            "Mlocked:               0 kB\n",
            "SwapTotal:             0 kB\n",
            "SwapFree:              0 kB\n",
            "Dirty:               268 kB\n",
            "Writeback:             0 kB\n",
            "AnonPages:        925064 kB\n",
            "Mapped:           663208 kB\n",
            "Shmem:              9136 kB\n",
            "Slab:             174560 kB\n",
            "SReclaimable:     128712 kB\n",
            "SUnreclaim:        45848 kB\n",
            "KernelStack:        3648 kB\n",
            "PageTables:         8636 kB\n",
            "NFS_Unstable:          0 kB\n",
            "Bounce:                0 kB\n",
            "WritebackTmp:          0 kB\n",
            "CommitLimit:     6666768 kB\n",
            "Committed_AS:    3122148 kB\n",
            "VmallocTotal:   34359738367 kB\n",
            "VmallocUsed:           0 kB\n",
            "VmallocChunk:          0 kB\n",
            "Percpu:              920 kB\n",
            "AnonHugePages:         0 kB\n",
            "ShmemHugePages:        0 kB\n",
            "ShmemPmdMapped:        0 kB\n",
            "HugePages_Total:       0\n",
            "HugePages_Free:        0\n",
            "HugePages_Rsvd:        0\n",
            "HugePages_Surp:        0\n",
            "Hugepagesize:       2048 kB\n",
            "Hugetlb:               0 kB\n",
            "DirectMap4k:      199868 kB\n",
            "DirectMap2M:     7139328 kB\n",
            "DirectMap1G:     8388608 kB\n"
          ],
          "name": "stdout"
        }
      ]
    },
    {
      "cell_type": "code",
      "metadata": {
        "id": "t3F1xYkiHXdE",
        "colab_type": "code",
        "colab": {
          "base_uri": "https://localhost:8080/",
          "height": 101
        },
        "outputId": "0821378d-a1ed-469a-df56-c17cf851c48e"
      },
      "source": [
        "!pip3 install torch torchvision"
      ],
      "execution_count": 8,
      "outputs": [
        {
          "output_type": "stream",
          "text": [
            "Requirement already satisfied: torch in /usr/local/lib/python3.6/dist-packages (1.5.1+cu101)\n",
            "Requirement already satisfied: torchvision in /usr/local/lib/python3.6/dist-packages (0.6.1+cu101)\n",
            "Requirement already satisfied: numpy in /usr/local/lib/python3.6/dist-packages (from torch) (1.18.5)\n",
            "Requirement already satisfied: future in /usr/local/lib/python3.6/dist-packages (from torch) (0.16.0)\n",
            "Requirement already satisfied: pillow>=4.1.1 in /usr/local/lib/python3.6/dist-packages (from torchvision) (7.0.0)\n"
          ],
          "name": "stdout"
        }
      ]
    }
  ]
}