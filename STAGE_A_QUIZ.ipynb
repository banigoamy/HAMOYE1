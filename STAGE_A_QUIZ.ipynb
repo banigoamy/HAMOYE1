{
  "nbformat": 4,
  "nbformat_minor": 0,
  "metadata": {
    "colab": {
      "name": "STAGE A QUIZ.ipynb",
      "provenance": [],
      "collapsed_sections": [],
      "authorship_tag": "ABX9TyNM5+CPTjo6S6pmJIjHC7BE",
      "include_colab_link": true
    },
    "kernelspec": {
      "name": "python3",
      "display_name": "Python 3"
    }
  },
  "cells": [
    {
      "cell_type": "markdown",
      "metadata": {
        "id": "view-in-github",
        "colab_type": "text"
      },
      "source": [
        "<a href=\"https://colab.research.google.com/github/banigoamy/HAMOYE1/blob/readme-edits/STAGE_A_QUIZ.ipynb\" target=\"_parent\"><img src=\"https://colab.research.google.com/assets/colab-badge.svg\" alt=\"Open In Colab\"/></a>"
      ]
    },
    {
      "cell_type": "markdown",
      "metadata": {
        "id": "YAUbzwg3qb4x",
        "colab_type": "text"
      },
      "source": [
        "**STAGE A QUIZ**\n"
      ]
    },
    {
      "cell_type": "code",
      "metadata": {
        "id": "THkBjDfYp6SR",
        "colab_type": "code",
        "colab": {
          "base_uri": "https://localhost:8080/",
          "height": 438
        },
        "outputId": "0750242a-7ef3-4cff-c044-b7813c512902"
      },
      "source": [
        "import numpy as np\n",
        "import pandas as pd\n",
        "import matplotlib.pyplot as plt\n",
        "import seaborn as sns\n",
        "url='https://github.com/WalePhenomenon/climate_change/blob/master/fuel_ferc1.csv?raw=true'\n",
        "fuel_data = pd.read_csv(url, error_bad_lines=False)\n",
        "fuel_data"
      ],
      "execution_count": 2,
      "outputs": [
        {
          "output_type": "execute_result",
          "data": {
            "text/html": [
              "<div>\n",
              "<style scoped>\n",
              "    .dataframe tbody tr th:only-of-type {\n",
              "        vertical-align: middle;\n",
              "    }\n",
              "\n",
              "    .dataframe tbody tr th {\n",
              "        vertical-align: top;\n",
              "    }\n",
              "\n",
              "    .dataframe thead th {\n",
              "        text-align: right;\n",
              "    }\n",
              "</style>\n",
              "<table border=\"1\" class=\"dataframe\">\n",
              "  <thead>\n",
              "    <tr style=\"text-align: right;\">\n",
              "      <th></th>\n",
              "      <th>record_id</th>\n",
              "      <th>utility_id_ferc1</th>\n",
              "      <th>report_year</th>\n",
              "      <th>plant_name_ferc1</th>\n",
              "      <th>fuel_type_code_pudl</th>\n",
              "      <th>fuel_unit</th>\n",
              "      <th>fuel_qty_burned</th>\n",
              "      <th>fuel_mmbtu_per_unit</th>\n",
              "      <th>fuel_cost_per_unit_burned</th>\n",
              "      <th>fuel_cost_per_unit_delivered</th>\n",
              "      <th>fuel_cost_per_mmbtu</th>\n",
              "    </tr>\n",
              "  </thead>\n",
              "  <tbody>\n",
              "    <tr>\n",
              "      <th>0</th>\n",
              "      <td>f1_fuel_1994_12_1_0_7</td>\n",
              "      <td>1</td>\n",
              "      <td>1994</td>\n",
              "      <td>rockport</td>\n",
              "      <td>coal</td>\n",
              "      <td>ton</td>\n",
              "      <td>5377489.0</td>\n",
              "      <td>16.590</td>\n",
              "      <td>18.59</td>\n",
              "      <td>18.53</td>\n",
              "      <td>1.121</td>\n",
              "    </tr>\n",
              "    <tr>\n",
              "      <th>1</th>\n",
              "      <td>f1_fuel_1994_12_1_0_10</td>\n",
              "      <td>1</td>\n",
              "      <td>1994</td>\n",
              "      <td>rockport total plant</td>\n",
              "      <td>coal</td>\n",
              "      <td>ton</td>\n",
              "      <td>10486945.0</td>\n",
              "      <td>16.592</td>\n",
              "      <td>18.58</td>\n",
              "      <td>18.53</td>\n",
              "      <td>1.120</td>\n",
              "    </tr>\n",
              "    <tr>\n",
              "      <th>2</th>\n",
              "      <td>f1_fuel_1994_12_2_0_1</td>\n",
              "      <td>2</td>\n",
              "      <td>1994</td>\n",
              "      <td>gorgas</td>\n",
              "      <td>coal</td>\n",
              "      <td>ton</td>\n",
              "      <td>2978683.0</td>\n",
              "      <td>24.130</td>\n",
              "      <td>39.72</td>\n",
              "      <td>38.12</td>\n",
              "      <td>1.650</td>\n",
              "    </tr>\n",
              "    <tr>\n",
              "      <th>3</th>\n",
              "      <td>f1_fuel_1994_12_2_0_7</td>\n",
              "      <td>2</td>\n",
              "      <td>1994</td>\n",
              "      <td>barry</td>\n",
              "      <td>coal</td>\n",
              "      <td>ton</td>\n",
              "      <td>3739484.0</td>\n",
              "      <td>23.950</td>\n",
              "      <td>47.21</td>\n",
              "      <td>45.99</td>\n",
              "      <td>1.970</td>\n",
              "    </tr>\n",
              "    <tr>\n",
              "      <th>4</th>\n",
              "      <td>f1_fuel_1994_12_2_0_10</td>\n",
              "      <td>2</td>\n",
              "      <td>1994</td>\n",
              "      <td>chickasaw</td>\n",
              "      <td>gas</td>\n",
              "      <td>mcf</td>\n",
              "      <td>40533.0</td>\n",
              "      <td>1.000</td>\n",
              "      <td>2.77</td>\n",
              "      <td>2.77</td>\n",
              "      <td>2.570</td>\n",
              "    </tr>\n",
              "    <tr>\n",
              "      <th>...</th>\n",
              "      <td>...</td>\n",
              "      <td>...</td>\n",
              "      <td>...</td>\n",
              "      <td>...</td>\n",
              "      <td>...</td>\n",
              "      <td>...</td>\n",
              "      <td>...</td>\n",
              "      <td>...</td>\n",
              "      <td>...</td>\n",
              "      <td>...</td>\n",
              "      <td>...</td>\n",
              "    </tr>\n",
              "    <tr>\n",
              "      <th>29518</th>\n",
              "      <td>f1_fuel_2018_12_12_0_13</td>\n",
              "      <td>12</td>\n",
              "      <td>2018</td>\n",
              "      <td>neil simpson ct #1</td>\n",
              "      <td>gas</td>\n",
              "      <td>mcf</td>\n",
              "      <td>18799.0</td>\n",
              "      <td>1.059</td>\n",
              "      <td>4.78</td>\n",
              "      <td>4.78</td>\n",
              "      <td>9.030</td>\n",
              "    </tr>\n",
              "    <tr>\n",
              "      <th>29519</th>\n",
              "      <td>f1_fuel_2018_12_12_1_1</td>\n",
              "      <td>12</td>\n",
              "      <td>2018</td>\n",
              "      <td>cheyenne prairie 58%</td>\n",
              "      <td>gas</td>\n",
              "      <td>mcf</td>\n",
              "      <td>806730.0</td>\n",
              "      <td>1.050</td>\n",
              "      <td>3.65</td>\n",
              "      <td>3.65</td>\n",
              "      <td>6.950</td>\n",
              "    </tr>\n",
              "    <tr>\n",
              "      <th>29520</th>\n",
              "      <td>f1_fuel_2018_12_12_1_10</td>\n",
              "      <td>12</td>\n",
              "      <td>2018</td>\n",
              "      <td>lange ct facility</td>\n",
              "      <td>gas</td>\n",
              "      <td>mcf</td>\n",
              "      <td>104554.0</td>\n",
              "      <td>1.060</td>\n",
              "      <td>4.77</td>\n",
              "      <td>4.77</td>\n",
              "      <td>8.990</td>\n",
              "    </tr>\n",
              "    <tr>\n",
              "      <th>29521</th>\n",
              "      <td>f1_fuel_2018_12_12_1_13</td>\n",
              "      <td>12</td>\n",
              "      <td>2018</td>\n",
              "      <td>wygen 3 bhp 52%</td>\n",
              "      <td>coal</td>\n",
              "      <td>ton</td>\n",
              "      <td>315945.0</td>\n",
              "      <td>16.108</td>\n",
              "      <td>3.06</td>\n",
              "      <td>14.76</td>\n",
              "      <td>1.110</td>\n",
              "    </tr>\n",
              "    <tr>\n",
              "      <th>29522</th>\n",
              "      <td>f1_fuel_2018_12_12_1_14</td>\n",
              "      <td>12</td>\n",
              "      <td>2018</td>\n",
              "      <td>wygen 3 bhp 52%</td>\n",
              "      <td>gas</td>\n",
              "      <td>mcf</td>\n",
              "      <td>17853.0</td>\n",
              "      <td>1.059</td>\n",
              "      <td>0.00</td>\n",
              "      <td>0.00</td>\n",
              "      <td>11.680</td>\n",
              "    </tr>\n",
              "  </tbody>\n",
              "</table>\n",
              "<p>29523 rows × 11 columns</p>\n",
              "</div>"
            ],
            "text/plain": [
              "                     record_id  ...  fuel_cost_per_mmbtu\n",
              "0        f1_fuel_1994_12_1_0_7  ...                1.121\n",
              "1       f1_fuel_1994_12_1_0_10  ...                1.120\n",
              "2        f1_fuel_1994_12_2_0_1  ...                1.650\n",
              "3        f1_fuel_1994_12_2_0_7  ...                1.970\n",
              "4       f1_fuel_1994_12_2_0_10  ...                2.570\n",
              "...                        ...  ...                  ...\n",
              "29518  f1_fuel_2018_12_12_0_13  ...                9.030\n",
              "29519   f1_fuel_2018_12_12_1_1  ...                6.950\n",
              "29520  f1_fuel_2018_12_12_1_10  ...                8.990\n",
              "29521  f1_fuel_2018_12_12_1_13  ...                1.110\n",
              "29522  f1_fuel_2018_12_12_1_14  ...               11.680\n",
              "\n",
              "[29523 rows x 11 columns]"
            ]
          },
          "metadata": {
            "tags": []
          },
          "execution_count": 2
        }
      ]
    },
    {
      "cell_type": "markdown",
      "metadata": {
        "id": "-sJjzNmgx6az",
        "colab_type": "text"
      },
      "source": [
        "**Question1**"
      ]
    },
    {
      "cell_type": "code",
      "metadata": {
        "id": "smC33fiqumMk",
        "colab_type": "code",
        "colab": {
          "base_uri": "https://localhost:8080/",
          "height": 34
        },
        "outputId": "38437637-ccb1-46be-c3c1-89fbbac66f7b"
      },
      "source": [
        "A = [1,2,3,4,5,6]\n",
        "B = [13, 21, 34]\n",
        "A_B = A.append(B)\n",
        "print(A_B)"
      ],
      "execution_count": 10,
      "outputs": [
        {
          "output_type": "stream",
          "text": [
            "None\n"
          ],
          "name": "stdout"
        }
      ]
    },
    {
      "cell_type": "code",
      "metadata": {
        "id": "wwGNUUnpvxB0",
        "colab_type": "code",
        "colab": {}
      },
      "source": [
        "A = [1,2,3,4,5,6]\n",
        "B = [13, 21, 34]\n",
        "A_B = A.extend(B)\n",
        "print(A_B)"
      ],
      "execution_count": null,
      "outputs": []
    },
    {
      "cell_type": "markdown",
      "metadata": {
        "id": "5i_WXeK4yAbs",
        "colab_type": "text"
      },
      "source": [
        "**Question 2**"
      ]
    },
    {
      "cell_type": "code",
      "metadata": {
        "id": "2hxKZxh1v0YR",
        "colab_type": "code",
        "colab": {
          "base_uri": "https://localhost:8080/",
          "height": 67
        },
        "outputId": "cd508ed9-992a-451e-9ba0-af7fff814eee"
      },
      "source": [
        "np.identity(3)"
      ],
      "execution_count": 11,
      "outputs": [
        {
          "output_type": "execute_result",
          "data": {
            "text/plain": [
              "array([[1., 0., 0.],\n",
              "       [0., 1., 0.],\n",
              "       [0., 0., 1.]])"
            ]
          },
          "metadata": {
            "tags": []
          },
          "execution_count": 11
        }
      ]
    },
    {
      "cell_type": "code",
      "metadata": {
        "id": "LcX7xD_Uv9cV",
        "colab_type": "code",
        "colab": {
          "base_uri": "https://localhost:8080/",
          "height": 162
        },
        "outputId": "4c1b697b-e5fb-4eff-9549-c7422bf093ae"
      },
      "source": [
        "np.array[(1,0,0),(0,1,0),(0,0,1)]"
      ],
      "execution_count": 12,
      "outputs": [
        {
          "output_type": "error",
          "ename": "TypeError",
          "evalue": "ignored",
          "traceback": [
            "\u001b[0;31m---------------------------------------------------------------------------\u001b[0m",
            "\u001b[0;31mTypeError\u001b[0m                                 Traceback (most recent call last)",
            "\u001b[0;32m<ipython-input-12-7cafea213b5f>\u001b[0m in \u001b[0;36m<module>\u001b[0;34m()\u001b[0m\n\u001b[0;32m----> 1\u001b[0;31m \u001b[0mnp\u001b[0m\u001b[0;34m.\u001b[0m\u001b[0marray\u001b[0m\u001b[0;34m[\u001b[0m\u001b[0;34m(\u001b[0m\u001b[0;36m1\u001b[0m\u001b[0;34m,\u001b[0m\u001b[0;36m0\u001b[0m\u001b[0;34m,\u001b[0m\u001b[0;36m0\u001b[0m\u001b[0;34m)\u001b[0m\u001b[0;34m,\u001b[0m\u001b[0;34m(\u001b[0m\u001b[0;36m0\u001b[0m\u001b[0;34m,\u001b[0m\u001b[0;36m1\u001b[0m\u001b[0;34m,\u001b[0m\u001b[0;36m0\u001b[0m\u001b[0;34m)\u001b[0m\u001b[0;34m,\u001b[0m\u001b[0;34m(\u001b[0m\u001b[0;36m0\u001b[0m\u001b[0;34m,\u001b[0m\u001b[0;36m0\u001b[0m\u001b[0;34m,\u001b[0m\u001b[0;36m1\u001b[0m\u001b[0;34m)\u001b[0m\u001b[0;34m]\u001b[0m\u001b[0;34m\u001b[0m\u001b[0;34m\u001b[0m\u001b[0m\n\u001b[0m",
            "\u001b[0;31mTypeError\u001b[0m: 'builtin_function_or_method' object is not subscriptable"
          ]
        }
      ]
    },
    {
      "cell_type": "code",
      "metadata": {
        "id": "Q3peahHKwaTf",
        "colab_type": "code",
        "colab": {
          "base_uri": "https://localhost:8080/",
          "height": 162
        },
        "outputId": "70c96a38-98a5-412a-a213-0a8a369b76cf"
      },
      "source": [
        "np.array([1,0,0],[0,1,0],[0,0,1])"
      ],
      "execution_count": 13,
      "outputs": [
        {
          "output_type": "error",
          "ename": "ValueError",
          "evalue": "ignored",
          "traceback": [
            "\u001b[0;31m---------------------------------------------------------------------------\u001b[0m",
            "\u001b[0;31mValueError\u001b[0m                                Traceback (most recent call last)",
            "\u001b[0;32m<ipython-input-13-87d28b744117>\u001b[0m in \u001b[0;36m<module>\u001b[0;34m()\u001b[0m\n\u001b[0;32m----> 1\u001b[0;31m \u001b[0mnp\u001b[0m\u001b[0;34m.\u001b[0m\u001b[0marray\u001b[0m\u001b[0;34m(\u001b[0m\u001b[0;34m[\u001b[0m\u001b[0;36m1\u001b[0m\u001b[0;34m,\u001b[0m\u001b[0;36m0\u001b[0m\u001b[0;34m,\u001b[0m\u001b[0;36m0\u001b[0m\u001b[0;34m]\u001b[0m\u001b[0;34m,\u001b[0m\u001b[0;34m[\u001b[0m\u001b[0;36m0\u001b[0m\u001b[0;34m,\u001b[0m\u001b[0;36m1\u001b[0m\u001b[0;34m,\u001b[0m\u001b[0;36m0\u001b[0m\u001b[0;34m]\u001b[0m\u001b[0;34m,\u001b[0m\u001b[0;34m[\u001b[0m\u001b[0;36m0\u001b[0m\u001b[0;34m,\u001b[0m\u001b[0;36m0\u001b[0m\u001b[0;34m,\u001b[0m\u001b[0;36m1\u001b[0m\u001b[0;34m]\u001b[0m\u001b[0;34m)\u001b[0m\u001b[0;34m\u001b[0m\u001b[0;34m\u001b[0m\u001b[0m\n\u001b[0m",
            "\u001b[0;31mValueError\u001b[0m: only 2 non-keyword arguments accepted"
          ]
        }
      ]
    },
    {
      "cell_type": "markdown",
      "metadata": {
        "id": "W1aWNBVqyFj8",
        "colab_type": "text"
      },
      "source": [
        "**Question 3**"
      ]
    },
    {
      "cell_type": "code",
      "metadata": {
        "id": "3qsTgZ2wwnWX",
        "colab_type": "code",
        "colab": {
          "base_uri": "https://localhost:8080/",
          "height": 254
        },
        "outputId": "dc072637-5cf3-4e45-e52d-5b92c92981bf"
      },
      "source": [
        "fuel_data.groupby('fuel_type_code_pudl')['fuel_cost_per_unit_burned'].describe() \n"
      ],
      "execution_count": 16,
      "outputs": [
        {
          "output_type": "execute_result",
          "data": {
            "text/html": [
              "<div>\n",
              "<style scoped>\n",
              "    .dataframe tbody tr th:only-of-type {\n",
              "        vertical-align: middle;\n",
              "    }\n",
              "\n",
              "    .dataframe tbody tr th {\n",
              "        vertical-align: top;\n",
              "    }\n",
              "\n",
              "    .dataframe thead th {\n",
              "        text-align: right;\n",
              "    }\n",
              "</style>\n",
              "<table border=\"1\" class=\"dataframe\">\n",
              "  <thead>\n",
              "    <tr style=\"text-align: right;\">\n",
              "      <th></th>\n",
              "      <th>count</th>\n",
              "      <th>mean</th>\n",
              "      <th>std</th>\n",
              "      <th>min</th>\n",
              "      <th>25%</th>\n",
              "      <th>50%</th>\n",
              "      <th>75%</th>\n",
              "      <th>max</th>\n",
              "    </tr>\n",
              "    <tr>\n",
              "      <th>fuel_type_code_pudl</th>\n",
              "      <th></th>\n",
              "      <th></th>\n",
              "      <th></th>\n",
              "      <th></th>\n",
              "      <th></th>\n",
              "      <th></th>\n",
              "      <th></th>\n",
              "      <th></th>\n",
              "    </tr>\n",
              "  </thead>\n",
              "  <tbody>\n",
              "    <tr>\n",
              "      <th>coal</th>\n",
              "      <td>8547.0</td>\n",
              "      <td>67.421830</td>\n",
              "      <td>943.771433</td>\n",
              "      <td>0.00</td>\n",
              "      <td>23.9585</td>\n",
              "      <td>33.3180</td>\n",
              "      <td>44.66800</td>\n",
              "      <td>44033.320</td>\n",
              "    </tr>\n",
              "    <tr>\n",
              "      <th>gas</th>\n",
              "      <td>11486.0</td>\n",
              "      <td>13.659397</td>\n",
              "      <td>163.286631</td>\n",
              "      <td>0.00</td>\n",
              "      <td>3.2300</td>\n",
              "      <td>4.6500</td>\n",
              "      <td>6.96000</td>\n",
              "      <td>10490.000</td>\n",
              "    </tr>\n",
              "    <tr>\n",
              "      <th>nuclear</th>\n",
              "      <td>818.0</td>\n",
              "      <td>4955.157002</td>\n",
              "      <td>14291.929749</td>\n",
              "      <td>0.00</td>\n",
              "      <td>1.6015</td>\n",
              "      <td>32.5200</td>\n",
              "      <td>50.85525</td>\n",
              "      <td>69785.215</td>\n",
              "    </tr>\n",
              "    <tr>\n",
              "      <th>oil</th>\n",
              "      <td>8064.0</td>\n",
              "      <td>168.877086</td>\n",
              "      <td>2406.101479</td>\n",
              "      <td>0.00</td>\n",
              "      <td>37.6100</td>\n",
              "      <td>68.9455</td>\n",
              "      <td>98.68925</td>\n",
              "      <td>139358.000</td>\n",
              "    </tr>\n",
              "    <tr>\n",
              "      <th>other</th>\n",
              "      <td>167.0</td>\n",
              "      <td>18.253856</td>\n",
              "      <td>29.016882</td>\n",
              "      <td>-119.04</td>\n",
              "      <td>2.6325</td>\n",
              "      <td>9.0640</td>\n",
              "      <td>20.05500</td>\n",
              "      <td>134.547</td>\n",
              "    </tr>\n",
              "    <tr>\n",
              "      <th>waste</th>\n",
              "      <td>441.0</td>\n",
              "      <td>19.518122</td>\n",
              "      <td>29.988017</td>\n",
              "      <td>-276.08</td>\n",
              "      <td>10.3350</td>\n",
              "      <td>21.9330</td>\n",
              "      <td>32.65000</td>\n",
              "      <td>132.291</td>\n",
              "    </tr>\n",
              "  </tbody>\n",
              "</table>\n",
              "</div>"
            ],
            "text/plain": [
              "                       count         mean  ...       75%         max\n",
              "fuel_type_code_pudl                        ...                      \n",
              "coal                  8547.0    67.421830  ...  44.66800   44033.320\n",
              "gas                  11486.0    13.659397  ...   6.96000   10490.000\n",
              "nuclear                818.0  4955.157002  ...  50.85525   69785.215\n",
              "oil                   8064.0   168.877086  ...  98.68925  139358.000\n",
              "other                  167.0    18.253856  ...  20.05500     134.547\n",
              "waste                  441.0    19.518122  ...  32.65000     132.291\n",
              "\n",
              "[6 rows x 8 columns]"
            ]
          },
          "metadata": {
            "tags": []
          },
          "execution_count": 16
        }
      ]
    },
    {
      "cell_type": "markdown",
      "metadata": {
        "id": "E9hJqrQNyKQY",
        "colab_type": "text"
      },
      "source": [
        "**Question 4**"
      ]
    },
    {
      "cell_type": "code",
      "metadata": {
        "id": "XNRxAIkJyJoK",
        "colab_type": "code",
        "colab": {
          "base_uri": "https://localhost:8080/",
          "height": 168
        },
        "outputId": "e419efb0-fe2b-4e91-a5b0-e5107885100a"
      },
      "source": [
        "fuel_data['fuel_mmbtu_per_unit'].describe()"
      ],
      "execution_count": 18,
      "outputs": [
        {
          "output_type": "execute_result",
          "data": {
            "text/plain": [
              "count    29523.000000\n",
              "mean         8.492111\n",
              "std         10.600220\n",
              "min          0.000001\n",
              "25%          1.024000\n",
              "50%          5.762694\n",
              "75%         17.006000\n",
              "max        341.260000\n",
              "Name: fuel_mmbtu_per_unit, dtype: float64"
            ]
          },
          "metadata": {
            "tags": []
          },
          "execution_count": 18
        }
      ]
    },
    {
      "cell_type": "markdown",
      "metadata": {
        "id": "Jtfx14_VzRs1",
        "colab_type": "text"
      },
      "source": [
        "**Question 5**"
      ]
    },
    {
      "cell_type": "code",
      "metadata": {
        "id": "rlEuN37A0235",
        "colab_type": "code",
        "colab": {
          "base_uri": "https://localhost:8080/",
          "height": 34
        },
        "outputId": "7a7c3660-a66d-4f77-f70c-d94a79f34a84"
      },
      "source": [
        "fuel_data['fuel_qty_burned'].skew()"
      ],
      "execution_count": 24,
      "outputs": [
        {
          "output_type": "execute_result",
          "data": {
            "text/plain": [
              "15.851495469109503"
            ]
          },
          "metadata": {
            "tags": []
          },
          "execution_count": 24
        }
      ]
    },
    {
      "cell_type": "code",
      "metadata": {
        "id": "I6dDHRB63_TT",
        "colab_type": "code",
        "colab": {
          "base_uri": "https://localhost:8080/",
          "height": 34
        },
        "outputId": "971cb936-45e3-413c-a442-b048386ab46d"
      },
      "source": [
        "fuel_data['fuel_qty_burned'].kurtosis()"
      ],
      "execution_count": 25,
      "outputs": [
        {
          "output_type": "execute_result",
          "data": {
            "text/plain": [
              "651.3694501337732"
            ]
          },
          "metadata": {
            "tags": []
          },
          "execution_count": 25
        }
      ]
    },
    {
      "cell_type": "markdown",
      "metadata": {
        "id": "F8Stdqlc04Lq",
        "colab_type": "text"
      },
      "source": [
        "**Question 6**"
      ]
    },
    {
      "cell_type": "code",
      "metadata": {
        "id": "MU_GWlDQzViO",
        "colab_type": "code",
        "colab": {
          "base_uri": "https://localhost:8080/",
          "height": 218
        },
        "outputId": "b6b3982b-3cc4-4f26-eae0-faf1e8dfcdee"
      },
      "source": [
        "fuel_data.isnull().sum()"
      ],
      "execution_count": 19,
      "outputs": [
        {
          "output_type": "execute_result",
          "data": {
            "text/plain": [
              "record_id                         0\n",
              "utility_id_ferc1                  0\n",
              "report_year                       0\n",
              "plant_name_ferc1                  0\n",
              "fuel_type_code_pudl               0\n",
              "fuel_unit                       180\n",
              "fuel_qty_burned                   0\n",
              "fuel_mmbtu_per_unit               0\n",
              "fuel_cost_per_unit_burned         0\n",
              "fuel_cost_per_unit_delivered      0\n",
              "fuel_cost_per_mmbtu               0\n",
              "dtype: int64"
            ]
          },
          "metadata": {
            "tags": []
          },
          "execution_count": 19
        }
      ]
    },
    {
      "cell_type": "code",
      "metadata": {
        "id": "Gc5Jwloxz-o1",
        "colab_type": "code",
        "colab": {
          "base_uri": "https://localhost:8080/",
          "height": 34
        },
        "outputId": "3494bd40-7e77-470a-e6f5-dafedd2ad9a6"
      },
      "source": [
        "#%missing values wrt total no of rows \n",
        "x = (180/29523)*100\n",
        "print(x)"
      ],
      "execution_count": 21,
      "outputs": [
        {
          "output_type": "stream",
          "text": [
            "0.609694136774718\n"
          ],
          "name": "stdout"
        }
      ]
    },
    {
      "cell_type": "markdown",
      "metadata": {
        "id": "lM_Qj_hs4suG",
        "colab_type": "text"
      },
      "source": [
        "**Question 8**"
      ]
    },
    {
      "cell_type": "code",
      "metadata": {
        "id": "6Fx_PBS24voD",
        "colab_type": "code",
        "colab": {
          "base_uri": "https://localhost:8080/",
          "height": 274
        },
        "outputId": "1ea2ee34-fbca-46ec-e4a1-d8cafbd66d41"
      },
      "source": [
        "fuel_data.corr(method='pearson')"
      ],
      "execution_count": 26,
      "outputs": [
        {
          "output_type": "execute_result",
          "data": {
            "text/html": [
              "<div>\n",
              "<style scoped>\n",
              "    .dataframe tbody tr th:only-of-type {\n",
              "        vertical-align: middle;\n",
              "    }\n",
              "\n",
              "    .dataframe tbody tr th {\n",
              "        vertical-align: top;\n",
              "    }\n",
              "\n",
              "    .dataframe thead th {\n",
              "        text-align: right;\n",
              "    }\n",
              "</style>\n",
              "<table border=\"1\" class=\"dataframe\">\n",
              "  <thead>\n",
              "    <tr style=\"text-align: right;\">\n",
              "      <th></th>\n",
              "      <th>utility_id_ferc1</th>\n",
              "      <th>report_year</th>\n",
              "      <th>fuel_qty_burned</th>\n",
              "      <th>fuel_mmbtu_per_unit</th>\n",
              "      <th>fuel_cost_per_unit_burned</th>\n",
              "      <th>fuel_cost_per_unit_delivered</th>\n",
              "      <th>fuel_cost_per_mmbtu</th>\n",
              "    </tr>\n",
              "  </thead>\n",
              "  <tbody>\n",
              "    <tr>\n",
              "      <th>utility_id_ferc1</th>\n",
              "      <td>1.000000</td>\n",
              "      <td>0.093323</td>\n",
              "      <td>-0.057447</td>\n",
              "      <td>-0.066946</td>\n",
              "      <td>-0.037863</td>\n",
              "      <td>-0.016414</td>\n",
              "      <td>0.006122</td>\n",
              "    </tr>\n",
              "    <tr>\n",
              "      <th>report_year</th>\n",
              "      <td>0.093323</td>\n",
              "      <td>1.000000</td>\n",
              "      <td>0.012952</td>\n",
              "      <td>-0.110853</td>\n",
              "      <td>0.013599</td>\n",
              "      <td>-0.014043</td>\n",
              "      <td>0.010261</td>\n",
              "    </tr>\n",
              "    <tr>\n",
              "      <th>fuel_qty_burned</th>\n",
              "      <td>-0.057447</td>\n",
              "      <td>0.012952</td>\n",
              "      <td>1.000000</td>\n",
              "      <td>-0.080946</td>\n",
              "      <td>-0.018535</td>\n",
              "      <td>-0.003551</td>\n",
              "      <td>-0.001896</td>\n",
              "    </tr>\n",
              "    <tr>\n",
              "      <th>fuel_mmbtu_per_unit</th>\n",
              "      <td>-0.066946</td>\n",
              "      <td>-0.110853</td>\n",
              "      <td>-0.080946</td>\n",
              "      <td>1.000000</td>\n",
              "      <td>-0.010034</td>\n",
              "      <td>-0.009039</td>\n",
              "      <td>-0.005884</td>\n",
              "    </tr>\n",
              "    <tr>\n",
              "      <th>fuel_cost_per_unit_burned</th>\n",
              "      <td>-0.037863</td>\n",
              "      <td>0.013599</td>\n",
              "      <td>-0.018535</td>\n",
              "      <td>-0.010034</td>\n",
              "      <td>1.000000</td>\n",
              "      <td>0.011007</td>\n",
              "      <td>-0.000437</td>\n",
              "    </tr>\n",
              "    <tr>\n",
              "      <th>fuel_cost_per_unit_delivered</th>\n",
              "      <td>-0.016414</td>\n",
              "      <td>-0.014043</td>\n",
              "      <td>-0.003551</td>\n",
              "      <td>-0.009039</td>\n",
              "      <td>0.011007</td>\n",
              "      <td>1.000000</td>\n",
              "      <td>-0.000109</td>\n",
              "    </tr>\n",
              "    <tr>\n",
              "      <th>fuel_cost_per_mmbtu</th>\n",
              "      <td>0.006122</td>\n",
              "      <td>0.010261</td>\n",
              "      <td>-0.001896</td>\n",
              "      <td>-0.005884</td>\n",
              "      <td>-0.000437</td>\n",
              "      <td>-0.000109</td>\n",
              "      <td>1.000000</td>\n",
              "    </tr>\n",
              "  </tbody>\n",
              "</table>\n",
              "</div>"
            ],
            "text/plain": [
              "                              utility_id_ferc1  ...  fuel_cost_per_mmbtu\n",
              "utility_id_ferc1                      1.000000  ...             0.006122\n",
              "report_year                           0.093323  ...             0.010261\n",
              "fuel_qty_burned                      -0.057447  ...            -0.001896\n",
              "fuel_mmbtu_per_unit                  -0.066946  ...            -0.005884\n",
              "fuel_cost_per_unit_burned            -0.037863  ...            -0.000437\n",
              "fuel_cost_per_unit_delivered         -0.016414  ...            -0.000109\n",
              "fuel_cost_per_mmbtu                   0.006122  ...             1.000000\n",
              "\n",
              "[7 rows x 7 columns]"
            ]
          },
          "metadata": {
            "tags": []
          },
          "execution_count": 26
        }
      ]
    },
    {
      "cell_type": "markdown",
      "metadata": {
        "id": "7zqvLRJV5y6O",
        "colab_type": "text"
      },
      "source": [
        "**Question 9**"
      ]
    },
    {
      "cell_type": "code",
      "metadata": {
        "id": "j6VysOl5529V",
        "colab_type": "code",
        "colab": {
          "base_uri": "https://localhost:8080/",
          "height": 422
        },
        "outputId": "dbdd3168-6430-4fe8-b8a2-a049f98d2de3"
      },
      "source": [
        "grouping = fuel_data.groupby('fuel_type_code_pudl')\n",
        "group1 = grouping.get_group('coal')\n",
        "group1"
      ],
      "execution_count": 33,
      "outputs": [
        {
          "output_type": "execute_result",
          "data": {
            "text/html": [
              "<div>\n",
              "<style scoped>\n",
              "    .dataframe tbody tr th:only-of-type {\n",
              "        vertical-align: middle;\n",
              "    }\n",
              "\n",
              "    .dataframe tbody tr th {\n",
              "        vertical-align: top;\n",
              "    }\n",
              "\n",
              "    .dataframe thead th {\n",
              "        text-align: right;\n",
              "    }\n",
              "</style>\n",
              "<table border=\"1\" class=\"dataframe\">\n",
              "  <thead>\n",
              "    <tr style=\"text-align: right;\">\n",
              "      <th></th>\n",
              "      <th>record_id</th>\n",
              "      <th>utility_id_ferc1</th>\n",
              "      <th>report_year</th>\n",
              "      <th>plant_name_ferc1</th>\n",
              "      <th>fuel_type_code_pudl</th>\n",
              "      <th>fuel_unit</th>\n",
              "      <th>fuel_qty_burned</th>\n",
              "      <th>fuel_mmbtu_per_unit</th>\n",
              "      <th>fuel_cost_per_unit_burned</th>\n",
              "      <th>fuel_cost_per_unit_delivered</th>\n",
              "      <th>fuel_cost_per_mmbtu</th>\n",
              "    </tr>\n",
              "  </thead>\n",
              "  <tbody>\n",
              "    <tr>\n",
              "      <th>0</th>\n",
              "      <td>f1_fuel_1994_12_1_0_7</td>\n",
              "      <td>1</td>\n",
              "      <td>1994</td>\n",
              "      <td>rockport</td>\n",
              "      <td>coal</td>\n",
              "      <td>ton</td>\n",
              "      <td>5377489.0</td>\n",
              "      <td>16.59000</td>\n",
              "      <td>18.590</td>\n",
              "      <td>18.530</td>\n",
              "      <td>1.121</td>\n",
              "    </tr>\n",
              "    <tr>\n",
              "      <th>1</th>\n",
              "      <td>f1_fuel_1994_12_1_0_10</td>\n",
              "      <td>1</td>\n",
              "      <td>1994</td>\n",
              "      <td>rockport total plant</td>\n",
              "      <td>coal</td>\n",
              "      <td>ton</td>\n",
              "      <td>10486945.0</td>\n",
              "      <td>16.59200</td>\n",
              "      <td>18.580</td>\n",
              "      <td>18.530</td>\n",
              "      <td>1.120</td>\n",
              "    </tr>\n",
              "    <tr>\n",
              "      <th>2</th>\n",
              "      <td>f1_fuel_1994_12_2_0_1</td>\n",
              "      <td>2</td>\n",
              "      <td>1994</td>\n",
              "      <td>gorgas</td>\n",
              "      <td>coal</td>\n",
              "      <td>ton</td>\n",
              "      <td>2978683.0</td>\n",
              "      <td>24.13000</td>\n",
              "      <td>39.720</td>\n",
              "      <td>38.120</td>\n",
              "      <td>1.650</td>\n",
              "    </tr>\n",
              "    <tr>\n",
              "      <th>3</th>\n",
              "      <td>f1_fuel_1994_12_2_0_7</td>\n",
              "      <td>2</td>\n",
              "      <td>1994</td>\n",
              "      <td>barry</td>\n",
              "      <td>coal</td>\n",
              "      <td>ton</td>\n",
              "      <td>3739484.0</td>\n",
              "      <td>23.95000</td>\n",
              "      <td>47.210</td>\n",
              "      <td>45.990</td>\n",
              "      <td>1.970</td>\n",
              "    </tr>\n",
              "    <tr>\n",
              "      <th>5</th>\n",
              "      <td>f1_fuel_1994_12_2_0_13</td>\n",
              "      <td>2</td>\n",
              "      <td>1994</td>\n",
              "      <td>e. c. gaston-unit 5</td>\n",
              "      <td>coal</td>\n",
              "      <td>ton</td>\n",
              "      <td>2124933.0</td>\n",
              "      <td>23.92200</td>\n",
              "      <td>44.240</td>\n",
              "      <td>43.250</td>\n",
              "      <td>1.850</td>\n",
              "    </tr>\n",
              "    <tr>\n",
              "      <th>...</th>\n",
              "      <td>...</td>\n",
              "      <td>...</td>\n",
              "      <td>...</td>\n",
              "      <td>...</td>\n",
              "      <td>...</td>\n",
              "      <td>...</td>\n",
              "      <td>...</td>\n",
              "      <td>...</td>\n",
              "      <td>...</td>\n",
              "      <td>...</td>\n",
              "      <td>...</td>\n",
              "    </tr>\n",
              "    <tr>\n",
              "      <th>29503</th>\n",
              "      <td>f1_fuel_2018_12_191_1_14</td>\n",
              "      <td>191</td>\n",
              "      <td>2018</td>\n",
              "      <td>lawrence</td>\n",
              "      <td>coal</td>\n",
              "      <td>ton</td>\n",
              "      <td>1761218.0</td>\n",
              "      <td>17.88832</td>\n",
              "      <td>26.775</td>\n",
              "      <td>27.392</td>\n",
              "      <td>1.497</td>\n",
              "    </tr>\n",
              "    <tr>\n",
              "      <th>29510</th>\n",
              "      <td>f1_fuel_2018_12_403_0_2</td>\n",
              "      <td>403</td>\n",
              "      <td>2018</td>\n",
              "      <td>wygen 2</td>\n",
              "      <td>coal</td>\n",
              "      <td>ton</td>\n",
              "      <td>569800.0</td>\n",
              "      <td>16.11000</td>\n",
              "      <td>14.760</td>\n",
              "      <td>0.810</td>\n",
              "      <td>1.130</td>\n",
              "    </tr>\n",
              "    <tr>\n",
              "      <th>29516</th>\n",
              "      <td>f1_fuel_2018_12_12_0_8</td>\n",
              "      <td>12</td>\n",
              "      <td>2018</td>\n",
              "      <td>neil simpson unit 2</td>\n",
              "      <td>coal</td>\n",
              "      <td>ton</td>\n",
              "      <td>491913.0</td>\n",
              "      <td>16.10000</td>\n",
              "      <td>14.760</td>\n",
              "      <td>17.720</td>\n",
              "      <td>1.100</td>\n",
              "    </tr>\n",
              "    <tr>\n",
              "      <th>29517</th>\n",
              "      <td>f1_fuel_2018_12_12_0_10</td>\n",
              "      <td>12</td>\n",
              "      <td>2018</td>\n",
              "      <td>wyodak - bhp 20%</td>\n",
              "      <td>coal</td>\n",
              "      <td>ton</td>\n",
              "      <td>409637.0</td>\n",
              "      <td>16.06800</td>\n",
              "      <td>13.690</td>\n",
              "      <td>14.310</td>\n",
              "      <td>0.890</td>\n",
              "    </tr>\n",
              "    <tr>\n",
              "      <th>29521</th>\n",
              "      <td>f1_fuel_2018_12_12_1_13</td>\n",
              "      <td>12</td>\n",
              "      <td>2018</td>\n",
              "      <td>wygen 3 bhp 52%</td>\n",
              "      <td>coal</td>\n",
              "      <td>ton</td>\n",
              "      <td>315945.0</td>\n",
              "      <td>16.10800</td>\n",
              "      <td>3.060</td>\n",
              "      <td>14.760</td>\n",
              "      <td>1.110</td>\n",
              "    </tr>\n",
              "  </tbody>\n",
              "</table>\n",
              "<p>8547 rows × 11 columns</p>\n",
              "</div>"
            ],
            "text/plain": [
              "                      record_id  ...  fuel_cost_per_mmbtu\n",
              "0         f1_fuel_1994_12_1_0_7  ...                1.121\n",
              "1        f1_fuel_1994_12_1_0_10  ...                1.120\n",
              "2         f1_fuel_1994_12_2_0_1  ...                1.650\n",
              "3         f1_fuel_1994_12_2_0_7  ...                1.970\n",
              "5        f1_fuel_1994_12_2_0_13  ...                1.850\n",
              "...                         ...  ...                  ...\n",
              "29503  f1_fuel_2018_12_191_1_14  ...                1.497\n",
              "29510   f1_fuel_2018_12_403_0_2  ...                1.130\n",
              "29516    f1_fuel_2018_12_12_0_8  ...                1.100\n",
              "29517   f1_fuel_2018_12_12_0_10  ...                0.890\n",
              "29521   f1_fuel_2018_12_12_1_13  ...                1.110\n",
              "\n",
              "[8547 rows x 11 columns]"
            ]
          },
          "metadata": {
            "tags": []
          },
          "execution_count": 33
        }
      ]
    },
    {
      "cell_type": "code",
      "metadata": {
        "id": "CT-eoSVe7q4G",
        "colab_type": "code",
        "colab": {
          "base_uri": "https://localhost:8080/",
          "height": 34
        },
        "outputId": "00dfa1e1-e506-4117-e70d-17836a970b02"
      },
      "source": [
        "grouping = group1.groupby('report_year')\n",
        "group2 = grouping.get_group(1994)\n",
        "group2['fuel_cost_per_unit_burned'].sum()"
      ],
      "execution_count": 38,
      "outputs": [
        {
          "output_type": "execute_result",
          "data": {
            "text/plain": [
              "14984.572000000002"
            ]
          },
          "metadata": {
            "tags": []
          },
          "execution_count": 38
        }
      ]
    },
    {
      "cell_type": "code",
      "metadata": {
        "id": "5ctUvVeM8diT",
        "colab_type": "code",
        "colab": {
          "base_uri": "https://localhost:8080/",
          "height": 34
        },
        "outputId": "06bcf48b-f5aa-48ec-96e2-7afdb15cbb70"
      },
      "source": [
        "grouping = group1.groupby('report_year')\n",
        "group3 = grouping.get_group(1998)\n",
        "group3['fuel_cost_per_unit_burned'].sum()"
      ],
      "execution_count": 40,
      "outputs": [
        {
          "output_type": "execute_result",
          "data": {
            "text/plain": [
              "11902.597"
            ]
          },
          "metadata": {
            "tags": []
          },
          "execution_count": 40
        }
      ]
    },
    {
      "cell_type": "code",
      "metadata": {
        "id": "erWigJcg9JNd",
        "colab_type": "code",
        "colab": {
          "base_uri": "https://localhost:8080/",
          "height": 34
        },
        "outputId": "9160e7a4-ea41-4996-9c27-56cdae9d57a2"
      },
      "source": [
        "#calculating % change \n",
        "c = ((11902.597 - 14984.572)/14984.572)*100\n",
        "c"
      ],
      "execution_count": 43,
      "outputs": [
        {
          "output_type": "execute_result",
          "data": {
            "text/plain": [
              "-20.567654518260518"
            ]
          },
          "metadata": {
            "tags": []
          },
          "execution_count": 43
        }
      ]
    },
    {
      "cell_type": "markdown",
      "metadata": {
        "id": "eMOO6I55097d",
        "colab_type": "text"
      },
      "source": [
        "**Question 10**"
      ]
    },
    {
      "cell_type": "code",
      "metadata": {
        "id": "yI04NZii09HL",
        "colab_type": "code",
        "colab": {
          "base_uri": "https://localhost:8080/",
          "height": 817
        },
        "outputId": "9e472bfa-c06f-4fb6-aeca-939f4151b992"
      },
      "source": [
        "fuel_data.groupby('report_year')['fuel_cost_per_unit_delivered'].describe() "
      ],
      "execution_count": 22,
      "outputs": [
        {
          "output_type": "execute_result",
          "data": {
            "text/html": [
              "<div>\n",
              "<style scoped>\n",
              "    .dataframe tbody tr th:only-of-type {\n",
              "        vertical-align: middle;\n",
              "    }\n",
              "\n",
              "    .dataframe tbody tr th {\n",
              "        vertical-align: top;\n",
              "    }\n",
              "\n",
              "    .dataframe thead th {\n",
              "        text-align: right;\n",
              "    }\n",
              "</style>\n",
              "<table border=\"1\" class=\"dataframe\">\n",
              "  <thead>\n",
              "    <tr style=\"text-align: right;\">\n",
              "      <th></th>\n",
              "      <th>count</th>\n",
              "      <th>mean</th>\n",
              "      <th>std</th>\n",
              "      <th>min</th>\n",
              "      <th>25%</th>\n",
              "      <th>50%</th>\n",
              "      <th>75%</th>\n",
              "      <th>max</th>\n",
              "    </tr>\n",
              "    <tr>\n",
              "      <th>report_year</th>\n",
              "      <th></th>\n",
              "      <th></th>\n",
              "      <th></th>\n",
              "      <th></th>\n",
              "      <th></th>\n",
              "      <th></th>\n",
              "      <th></th>\n",
              "      <th></th>\n",
              "    </tr>\n",
              "  </thead>\n",
              "  <tbody>\n",
              "    <tr>\n",
              "      <th>1994</th>\n",
              "      <td>1235.0</td>\n",
              "      <td>63.636060</td>\n",
              "      <td>1288.748659</td>\n",
              "      <td>-58.800</td>\n",
              "      <td>2.32600</td>\n",
              "      <td>13.1560</td>\n",
              "      <td>30.91000</td>\n",
              "      <td>45115.000</td>\n",
              "    </tr>\n",
              "    <tr>\n",
              "      <th>1995</th>\n",
              "      <td>1201.0</td>\n",
              "      <td>32.735269</td>\n",
              "      <td>173.849821</td>\n",
              "      <td>-85.640</td>\n",
              "      <td>1.80600</td>\n",
              "      <td>5.1140</td>\n",
              "      <td>29.79000</td>\n",
              "      <td>2396.770</td>\n",
              "    </tr>\n",
              "    <tr>\n",
              "      <th>1996</th>\n",
              "      <td>1088.0</td>\n",
              "      <td>9196.705948</td>\n",
              "      <td>244767.437600</td>\n",
              "      <td>-44.050</td>\n",
              "      <td>2.93500</td>\n",
              "      <td>16.2700</td>\n",
              "      <td>30.57250</td>\n",
              "      <td>7793482.000</td>\n",
              "    </tr>\n",
              "    <tr>\n",
              "      <th>1997</th>\n",
              "      <td>1094.0</td>\n",
              "      <td>11140.197239</td>\n",
              "      <td>256945.853368</td>\n",
              "      <td>-38.972</td>\n",
              "      <td>2.94650</td>\n",
              "      <td>14.4515</td>\n",
              "      <td>29.10400</td>\n",
              "      <td>7964521.000</td>\n",
              "    </tr>\n",
              "    <tr>\n",
              "      <th>1998</th>\n",
              "      <td>1107.0</td>\n",
              "      <td>287.154420</td>\n",
              "      <td>8172.214382</td>\n",
              "      <td>-43.747</td>\n",
              "      <td>2.40000</td>\n",
              "      <td>3.4750</td>\n",
              "      <td>24.78000</td>\n",
              "      <td>270604.000</td>\n",
              "    </tr>\n",
              "    <tr>\n",
              "      <th>1999</th>\n",
              "      <td>1050.0</td>\n",
              "      <td>25.551627</td>\n",
              "      <td>137.826776</td>\n",
              "      <td>-32.970</td>\n",
              "      <td>2.52700</td>\n",
              "      <td>3.5750</td>\n",
              "      <td>26.12300</td>\n",
              "      <td>2891.100</td>\n",
              "    </tr>\n",
              "    <tr>\n",
              "      <th>2000</th>\n",
              "      <td>1373.0</td>\n",
              "      <td>985.362877</td>\n",
              "      <td>31576.526616</td>\n",
              "      <td>-174.670</td>\n",
              "      <td>4.37000</td>\n",
              "      <td>19.4700</td>\n",
              "      <td>36.28800</td>\n",
              "      <td>1168000.000</td>\n",
              "    </tr>\n",
              "    <tr>\n",
              "      <th>2001</th>\n",
              "      <td>1356.0</td>\n",
              "      <td>60.050396</td>\n",
              "      <td>947.767770</td>\n",
              "      <td>-37.790</td>\n",
              "      <td>4.35950</td>\n",
              "      <td>21.2150</td>\n",
              "      <td>35.78250</td>\n",
              "      <td>34381.000</td>\n",
              "    </tr>\n",
              "    <tr>\n",
              "      <th>2002</th>\n",
              "      <td>1205.0</td>\n",
              "      <td>47.594361</td>\n",
              "      <td>906.266622</td>\n",
              "      <td>-60.290</td>\n",
              "      <td>3.72400</td>\n",
              "      <td>17.8940</td>\n",
              "      <td>31.96000</td>\n",
              "      <td>31416.000</td>\n",
              "    </tr>\n",
              "    <tr>\n",
              "      <th>2003</th>\n",
              "      <td>1211.0</td>\n",
              "      <td>55.663493</td>\n",
              "      <td>996.166868</td>\n",
              "      <td>-118.340</td>\n",
              "      <td>5.93000</td>\n",
              "      <td>21.9670</td>\n",
              "      <td>37.44100</td>\n",
              "      <td>34518.000</td>\n",
              "    </tr>\n",
              "    <tr>\n",
              "      <th>2004</th>\n",
              "      <td>1192.0</td>\n",
              "      <td>139.524275</td>\n",
              "      <td>3848.790040</td>\n",
              "      <td>-313.410</td>\n",
              "      <td>6.51500</td>\n",
              "      <td>20.9000</td>\n",
              "      <td>45.84025</td>\n",
              "      <td>132884.000</td>\n",
              "    </tr>\n",
              "    <tr>\n",
              "      <th>2005</th>\n",
              "      <td>1269.0</td>\n",
              "      <td>41.438184</td>\n",
              "      <td>247.442252</td>\n",
              "      <td>-31.501</td>\n",
              "      <td>8.68100</td>\n",
              "      <td>23.8610</td>\n",
              "      <td>62.13000</td>\n",
              "      <td>8651.000</td>\n",
              "    </tr>\n",
              "    <tr>\n",
              "      <th>2006</th>\n",
              "      <td>1243.0</td>\n",
              "      <td>38.657484</td>\n",
              "      <td>68.938342</td>\n",
              "      <td>-24.295</td>\n",
              "      <td>7.58500</td>\n",
              "      <td>21.7870</td>\n",
              "      <td>68.49700</td>\n",
              "      <td>1431.000</td>\n",
              "    </tr>\n",
              "    <tr>\n",
              "      <th>2007</th>\n",
              "      <td>1264.0</td>\n",
              "      <td>43.325023</td>\n",
              "      <td>148.371871</td>\n",
              "      <td>-488.054</td>\n",
              "      <td>7.48925</td>\n",
              "      <td>22.9085</td>\n",
              "      <td>72.66500</td>\n",
              "      <td>4850.872</td>\n",
              "    </tr>\n",
              "    <tr>\n",
              "      <th>2008</th>\n",
              "      <td>1228.0</td>\n",
              "      <td>58.588197</td>\n",
              "      <td>314.507364</td>\n",
              "      <td>-874.937</td>\n",
              "      <td>9.28175</td>\n",
              "      <td>23.5950</td>\n",
              "      <td>80.97925</td>\n",
              "      <td>10490.000</td>\n",
              "    </tr>\n",
              "    <tr>\n",
              "      <th>2009</th>\n",
              "      <td>1222.0</td>\n",
              "      <td>652.694163</td>\n",
              "      <td>20888.844544</td>\n",
              "      <td>0.000</td>\n",
              "      <td>5.38550</td>\n",
              "      <td>26.6120</td>\n",
              "      <td>71.45950</td>\n",
              "      <td>730166.000</td>\n",
              "    </tr>\n",
              "    <tr>\n",
              "      <th>2010</th>\n",
              "      <td>1261.0</td>\n",
              "      <td>91.862105</td>\n",
              "      <td>1282.253549</td>\n",
              "      <td>-7.295</td>\n",
              "      <td>5.41400</td>\n",
              "      <td>24.9000</td>\n",
              "      <td>86.36000</td>\n",
              "      <td>44033.320</td>\n",
              "    </tr>\n",
              "    <tr>\n",
              "      <th>2011</th>\n",
              "      <td>1240.0</td>\n",
              "      <td>59.774667</td>\n",
              "      <td>296.896180</td>\n",
              "      <td>-43.419</td>\n",
              "      <td>5.18075</td>\n",
              "      <td>24.5155</td>\n",
              "      <td>92.69675</td>\n",
              "      <td>9545.000</td>\n",
              "    </tr>\n",
              "    <tr>\n",
              "      <th>2012</th>\n",
              "      <td>1243.0</td>\n",
              "      <td>60.994502</td>\n",
              "      <td>313.148171</td>\n",
              "      <td>-91.900</td>\n",
              "      <td>3.56550</td>\n",
              "      <td>25.4000</td>\n",
              "      <td>99.53500</td>\n",
              "      <td>10129.000</td>\n",
              "    </tr>\n",
              "    <tr>\n",
              "      <th>2013</th>\n",
              "      <td>1199.0</td>\n",
              "      <td>172.307591</td>\n",
              "      <td>3917.510920</td>\n",
              "      <td>-93.470</td>\n",
              "      <td>4.61050</td>\n",
              "      <td>24.1770</td>\n",
              "      <td>90.49000</td>\n",
              "      <td>135315.000</td>\n",
              "    </tr>\n",
              "    <tr>\n",
              "      <th>2014</th>\n",
              "      <td>1171.0</td>\n",
              "      <td>192.737183</td>\n",
              "      <td>4019.515097</td>\n",
              "      <td>0.000</td>\n",
              "      <td>5.50200</td>\n",
              "      <td>29.3400</td>\n",
              "      <td>103.24750</td>\n",
              "      <td>136410.000</td>\n",
              "    </tr>\n",
              "    <tr>\n",
              "      <th>2015</th>\n",
              "      <td>1093.0</td>\n",
              "      <td>326.535511</td>\n",
              "      <td>5571.037893</td>\n",
              "      <td>-170.187</td>\n",
              "      <td>3.38000</td>\n",
              "      <td>12.0690</td>\n",
              "      <td>67.46000</td>\n",
              "      <td>140706.000</td>\n",
              "    </tr>\n",
              "    <tr>\n",
              "      <th>2016</th>\n",
              "      <td>1034.0</td>\n",
              "      <td>103.901761</td>\n",
              "      <td>2163.468884</td>\n",
              "      <td>-40.725</td>\n",
              "      <td>3.08925</td>\n",
              "      <td>6.3795</td>\n",
              "      <td>54.04875</td>\n",
              "      <td>69440.000</td>\n",
              "    </tr>\n",
              "    <tr>\n",
              "      <th>2017</th>\n",
              "      <td>993.0</td>\n",
              "      <td>46.196861</td>\n",
              "      <td>209.871096</td>\n",
              "      <td>0.000</td>\n",
              "      <td>3.35100</td>\n",
              "      <td>6.1190</td>\n",
              "      <td>62.93000</td>\n",
              "      <td>3584.335</td>\n",
              "    </tr>\n",
              "    <tr>\n",
              "      <th>2018</th>\n",
              "      <td>951.0</td>\n",
              "      <td>499.269966</td>\n",
              "      <td>8976.783325</td>\n",
              "      <td>0.000</td>\n",
              "      <td>3.33000</td>\n",
              "      <td>5.8400</td>\n",
              "      <td>70.43900</td>\n",
              "      <td>245652.000</td>\n",
              "    </tr>\n",
              "  </tbody>\n",
              "</table>\n",
              "</div>"
            ],
            "text/plain": [
              "              count          mean  ...        75%          max\n",
              "report_year                        ...                        \n",
              "1994         1235.0     63.636060  ...   30.91000    45115.000\n",
              "1995         1201.0     32.735269  ...   29.79000     2396.770\n",
              "1996         1088.0   9196.705948  ...   30.57250  7793482.000\n",
              "1997         1094.0  11140.197239  ...   29.10400  7964521.000\n",
              "1998         1107.0    287.154420  ...   24.78000   270604.000\n",
              "1999         1050.0     25.551627  ...   26.12300     2891.100\n",
              "2000         1373.0    985.362877  ...   36.28800  1168000.000\n",
              "2001         1356.0     60.050396  ...   35.78250    34381.000\n",
              "2002         1205.0     47.594361  ...   31.96000    31416.000\n",
              "2003         1211.0     55.663493  ...   37.44100    34518.000\n",
              "2004         1192.0    139.524275  ...   45.84025   132884.000\n",
              "2005         1269.0     41.438184  ...   62.13000     8651.000\n",
              "2006         1243.0     38.657484  ...   68.49700     1431.000\n",
              "2007         1264.0     43.325023  ...   72.66500     4850.872\n",
              "2008         1228.0     58.588197  ...   80.97925    10490.000\n",
              "2009         1222.0    652.694163  ...   71.45950   730166.000\n",
              "2010         1261.0     91.862105  ...   86.36000    44033.320\n",
              "2011         1240.0     59.774667  ...   92.69675     9545.000\n",
              "2012         1243.0     60.994502  ...   99.53500    10129.000\n",
              "2013         1199.0    172.307591  ...   90.49000   135315.000\n",
              "2014         1171.0    192.737183  ...  103.24750   136410.000\n",
              "2015         1093.0    326.535511  ...   67.46000   140706.000\n",
              "2016         1034.0    103.901761  ...   54.04875    69440.000\n",
              "2017          993.0     46.196861  ...   62.93000     3584.335\n",
              "2018          951.0    499.269966  ...   70.43900   245652.000\n",
              "\n",
              "[25 rows x 8 columns]"
            ]
          },
          "metadata": {
            "tags": []
          },
          "execution_count": 22
        }
      ]
    }
  ]
}